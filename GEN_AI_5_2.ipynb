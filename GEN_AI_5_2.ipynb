{
  "nbformat": 4,
  "nbformat_minor": 0,
  "metadata": {
    "colab": {
      "provenance": [],
      "include_colab_link": true
    },
    "kernelspec": {
      "name": "python3",
      "display_name": "Python 3"
    },
    "language_info": {
      "name": "python"
    }
  },
  "cells": [
    {
      "cell_type": "markdown",
      "metadata": {
        "id": "view-in-github",
        "colab_type": "text"
      },
      "source": [
        "<a href=\"https://colab.research.google.com/github/2303A52106/AIML_2303A52106/blob/main/GEN_AI_5_2.ipynb\" target=\"_parent\"><img src=\"https://colab.research.google.com/assets/colab-badge.svg\" alt=\"Open In Colab\"/></a>"
      ]
    },
    {
      "cell_type": "markdown",
      "source": [
        "Design a multi-layer ANN architecture with one input, one hidden, and one output\n",
        "layer. Assume a linear activation function in the output layer and a sigmoid activation function\n",
        "in the hidden layer.\n",
        "• Write Python code for a backpropagation algorithm with gradient descent optimization to\n",
        "update weights and bias parameters of the ANN model with training data shown in Table\n",
        "1.\n",
        "• Calculate the mean square error with training and testing data shown in Table 2.\n",
        "• Write Python code that reads the input data [x1 and x2] from the user. Predict the output\n",
        "with deployed ANN model\n",
        "Tabela 1: Training Data\n",
        "x1 x2 y\n",
        "0.2 0.1 0.3441\n",
        "0.3 0.2 0.3500\n",
        "0.4 0.3 0.3558\n",
        "0.7 0.6 0.3729\n",
        "0.8 0.7 0.3785\n",
        "0.9 0.8 0.3841\n",
        "Tabela 2: Test Data\n",
        "x1 x2 y\n",
        "0.5 0.4 0.3615\n",
        "0.6 0.5 0.3672"
      ],
      "metadata": {
        "id": "8W_99wG9wwHI"
      }
    },
    {
      "cell_type": "code",
      "source": [
        "import numpy as np\n",
        "\n",
        "def sigmoid(x):\n",
        "  return 1 / (1 + np.exp(-x))\n",
        "\n",
        "def sigmoid_derivative(x):\n",
        "  return x * (1 - x)\n",
        "\n",
        "def linear(x):\n",
        "  return x\n",
        "\n",
        "def linear_derivative(x):\n",
        "  return 1"
      ],
      "metadata": {
        "id": "uSuwgoxSxyGR"
      },
      "execution_count": null,
      "outputs": []
    },
    {
      "cell_type": "code",
      "source": [
        "input_size = 2\n",
        "hidden_size = 3\n",
        "output_size = 1\n",
        "learning_rate = 0.1\n",
        "epochs = 10000"
      ],
      "metadata": {
        "id": "RzAaN6oHx98T"
      },
      "execution_count": null,
      "outputs": []
    },
    {
      "cell_type": "code",
      "source": [
        "hidden_weights = np.random.uniform(size=(input_size, hidden_size))\n",
        "hidden_bias = np.random.uniform(size=(1, hidden_size))\n",
        "output_weights = np.random.uniform(size=(hidden_size, output_size))\n",
        "output_bias = np.random.uniform(size=(1, output_size))\n"
      ],
      "metadata": {
        "id": "hZEIUVf5yDaD"
      },
      "execution_count": null,
      "outputs": []
    },
    {
      "cell_type": "code",
      "source": [
        "training_data = np.array([\n",
        "    [0.2, 0.1, 0.3441],\n",
        "    [0.3, 0.2, 0.3500],\n",
        "    [0.4, 0.3, 0.3558],\n",
        "    [0.7, 0.6, 0.3729],\n",
        "    [0.8, 0.7, 0.3785],\n",
        "    [0.9, 0.8, 0.3841]\n",
        "])\n"
      ],
      "metadata": {
        "id": "RkvkvnuKyJb8"
      },
      "execution_count": null,
      "outputs": []
    },
    {
      "cell_type": "code",
      "source": [
        "test_data = np.array([\n",
        "    [0.5, 0.4, 0.3615],\n",
        "    [0.6, 0.5, 0.3672]\n",
        "])"
      ],
      "metadata": {
        "id": "TqrOXS1_yR_d"
      },
      "execution_count": null,
      "outputs": []
    },
    {
      "cell_type": "code",
      "source": [
        "for i in range(epochs):\n",
        "    for data_point in training_data:\n",
        "        input_data = data_point[:2].reshape(1, -1)\n",
        "        target_output = data_point[2]\n",
        "\n",
        "        hidden_layer_input = np.dot(input_data, hidden_weights) + hidden_bias\n",
        "        hidden_layer_output = sigmoid(hidden_layer_input)\n",
        "\n",
        "        output_layer_input = np.dot(hidden_layer_output, output_weights) + output_bias\n",
        "        predicted_output = linear(output_layer_input)\n",
        "\n",
        "        output_error = target_output - predicted_output\n",
        "        output_delta = output_error * linear_derivative(predicted_output)\n",
        "\n",
        "        hidden_error = output_delta.dot(output_weights.T)\n",
        "        hidden_delta = hidden_error * sigmoid_derivative(hidden_layer_output)\n",
        "\n",
        "        output_weights += hidden_layer_output.T.dot(output_delta) * learning_rate\n",
        "        output_bias += np.sum(output_delta, axis=0, keepdims=True) * learning_rate\n",
        "        hidden_weights += input_data.T.dot(hidden_delta) * learning_rate\n",
        "        hidden_bias += np.sum(hidden_delta, axis=0, keepdims=True) * learning_rate"
      ],
      "metadata": {
        "id": "_0x0iSkWyT4e"
      },
      "execution_count": null,
      "outputs": []
    },
    {
      "cell_type": "code",
      "source": [
        "def calculate_mse(data):\n",
        "    mse = 0\n",
        "    for data_point in data:\n",
        "        input_data = data_point[:2].reshape(1, -1)\n",
        "        target_output = data_point[2]\n",
        "\n",
        "        hidden_layer_output = sigmoid(np.dot(input_data, hidden_weights) + hidden_bias)\n",
        "        predicted_output = linear(np.dot(hidden_layer_output, output_weights) + output_bias)\n",
        "\n",
        "        mse += (target_output - predicted_output)**2\n",
        "    return mse / len(data)"
      ],
      "metadata": {
        "id": "8-ynJc_zyfPO"
      },
      "execution_count": null,
      "outputs": []
    },
    {
      "cell_type": "code",
      "source": [
        "training_mse = calculate_mse(training_data)\n",
        "test_mse = calculate_mse(test_data)\n",
        "print(\"Training MSE:\", training_mse)\n",
        "print(\"Test MSE:\", test_mse)"
      ],
      "metadata": {
        "colab": {
          "base_uri": "https://localhost:8080/"
        },
        "id": "THX08YcXylIP",
        "outputId": "4bbb1935-93cd-466d-8f18-98bf20d8e2fd"
      },
      "execution_count": null,
      "outputs": [
        {
          "output_type": "stream",
          "name": "stdout",
          "text": [
            "Training MSE: [[9.95575814e-07]]\n",
            "Test MSE: [[2.93439092e-06]]\n"
          ]
        }
      ]
    },
    {
      "cell_type": "code",
      "source": [
        "def predict_output(x1, x2):\n",
        "    input_data = np.array([x1, x2]).reshape(1, -1)\n",
        "    hidden_layer_output = sigmoid(np.dot(input_data, hidden_weights) + hidden_bias)\n",
        "    predicted_output = linear(np.dot(hidden_layer_output, output_weights) + output_bias)\n",
        "    return predicted_output[0, 0]"
      ],
      "metadata": {
        "id": "JH9Red3Zyo0w"
      },
      "execution_count": null,
      "outputs": []
    },
    {
      "cell_type": "code",
      "source": [
        "x1 = float(input(\"Enter x1: \"))\n",
        "x2 = float(input(\"Enter x2: \"))\n",
        "\n",
        "prediction = predict_output(x1, x2)\n",
        "print(\"Predicted output:\", prediction)"
      ],
      "metadata": {
        "colab": {
          "base_uri": "https://localhost:8080/"
        },
        "id": "_YXXt1Gayvdp",
        "outputId": "6f99db8d-21c9-4204-e0c1-c21e2b7104cc"
      },
      "execution_count": null,
      "outputs": [
        {
          "output_type": "stream",
          "name": "stdout",
          "text": [
            "Enter x1: 0.89\n",
            "Enter x2: 0.79\n",
            "Predicted output: 0.3827587667205059\n"
          ]
        }
      ]
    }
  ]
}